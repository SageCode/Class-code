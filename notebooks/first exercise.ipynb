{
 "cells": [
  {
   "cell_type": "code",
   "execution_count": 14,
   "metadata": {
    "collapsed": false
   },
   "outputs": [],
   "source": [
    "import numpy as np\n",
    "import matplotlib.pyplot as plt\n",
    "%matplotlib inline\n",
    "\n",
    "# rate of acceleration due to gravity on earth in ms^-2\n",
    "g = 9.8\n",
    "\n",
    "# define the initial height and velocity\n",
    "h_0 = 1.2\n",
    "v_0 = 5.4\n",
    "\n",
    "def trajectory(t):\n",
    "    \n",
    "    h = h_0 + v_0 * t - 0.5 * g * t ** 2\n",
    "    v = v_0 - g * t\n",
    "    \n",
    "    return h, v"
   ]
  },
  {
   "cell_type": "code",
   "execution_count": 17,
   "metadata": {
    "collapsed": false
   },
   "outputs": [
    {
     "name": "stdout",
     "output_type": "stream",
     "text": [
      "[ 1.2      1.45775  1.691    1.89975  2.084    2.24375  2.379    2.48975\n",
      "  2.576    2.63775  2.675    2.68775  2.676    2.63975  2.579    2.49375\n",
      "  2.384    2.24975  2.091    1.90775  1.7      1.46775  1.211    0.92975\n",
      "  0.624    0.29375 -0.061   -0.44025 -0.844   -1.27225]\n",
      "[ 5.4   4.91  4.42  3.93  3.44  2.95  2.46  1.97  1.48  0.99  0.5   0.01\n",
      " -0.48 -0.97 -1.46 -1.95 -2.44 -2.93 -3.42 -3.91 -4.4  -4.89 -5.38 -5.87\n",
      " -6.36 -6.85 -7.34 -7.83 -8.32 -8.81]\n"
     ]
    }
   ],
   "source": [
    "# compute height and velocity in 0.05 second intervals up to a selected maximum time\n",
    "max_t = 1.5\n",
    "ts = np.arange(0, max_t, 0.05)\n",
    "hs, vs = trajectory(ts)\n",
    "\n",
    "print hs\n",
    "print vs"
   ]
  },
  {
   "cell_type": "code",
   "execution_count": 10,
   "metadata": {
    "collapsed": false
   },
   "outputs": [
    {
     "data": {
      "text/plain": [
       "8"
      ]
     },
     "execution_count": 10,
     "metadata": {},
     "output_type": "execute_result"
    }
   ],
   "source": [
    "# plot our results!\n",
    "fig = plt.figure()\n",
    "\n",
    "ax1 = fig.add_subplot(121)\n",
    "ax1.plot(ts, hs, color='b')\n",
    "ax1.set_xlabel(\"time\")\n",
    "ax1.set_ylabel(\"height\")\n",
    "\n",
    "ax2 = fig.add_subplot(122)\n",
    "ax2.plot(ts, vs, color='g')\n",
    "ax2.set_xlabel(\"time\")\n",
    "ax2.set_ylabel(\"height\")\n",
    "\n"
   ]
  },
  {
   "cell_type": "code",
   "execution_count": null,
   "metadata": {
    "collapsed": true
   },
   "outputs": [],
   "source": []
  }
 ],
 "metadata": {
  "kernelspec": {
   "display_name": "Python 2",
   "language": "python",
   "name": "python2"
  },
  "language_info": {
   "codemirror_mode": {
    "name": "ipython",
    "version": 2
   },
   "file_extension": ".py",
   "mimetype": "text/x-python",
   "name": "python",
   "nbconvert_exporter": "python",
   "pygments_lexer": "ipython2",
   "version": "2.7.12"
  }
 },
 "nbformat": 4,
 "nbformat_minor": 0
}
